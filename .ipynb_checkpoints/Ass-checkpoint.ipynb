{
 "cells": [
  {
   "cell_type": "markdown",
   "id": "69e14d33",
   "metadata": {},
   "source": [
    "# Assignment 1"
   ]
  },
  {
   "cell_type": "code",
   "execution_count": 1,
   "id": "0d0559a0",
   "metadata": {},
   "outputs": [
    {
     "name": "stdout",
     "output_type": "stream",
     "text": [
      "Requirement already satisfied: yfinance in c:\\users\\salman_mohamm3d\\anaconda3\\lib\\site-packages (0.2.31)\n",
      "Requirement already satisfied: multitasking>=0.0.7 in c:\\users\\salman_mohamm3d\\anaconda3\\lib\\site-packages (from yfinance) (0.0.11)\n",
      "Requirement already satisfied: requests>=2.31 in c:\\users\\salman_mohamm3d\\anaconda3\\lib\\site-packages (from yfinance) (2.31.0)\n",
      "Requirement already satisfied: html5lib>=1.1 in c:\\users\\salman_mohamm3d\\anaconda3\\lib\\site-packages (from yfinance) (1.1)\n",
      "Requirement already satisfied: pandas>=1.3.0 in c:\\users\\salman_mohamm3d\\anaconda3\\lib\\site-packages (from yfinance) (1.4.2)\n",
      "Requirement already satisfied: beautifulsoup4>=4.11.1 in c:\\users\\salman_mohamm3d\\anaconda3\\lib\\site-packages (from yfinance) (4.11.1)\n",
      "Requirement already satisfied: frozendict>=2.3.4 in c:\\users\\salman_mohamm3d\\anaconda3\\lib\\site-packages (from yfinance) (2.3.8)\n",
      "Requirement already satisfied: numpy>=1.16.5 in c:\\users\\salman_mohamm3d\\anaconda3\\lib\\site-packages (from yfinance) (1.21.5)\n",
      "Requirement already satisfied: appdirs>=1.4.4 in c:\\users\\salman_mohamm3d\\anaconda3\\lib\\site-packages (from yfinance) (1.4.4)\n",
      "Requirement already satisfied: lxml>=4.9.1 in c:\\users\\salman_mohamm3d\\anaconda3\\lib\\site-packages (from yfinance) (4.9.3)\n",
      "Requirement already satisfied: pytz>=2022.5 in c:\\users\\salman_mohamm3d\\anaconda3\\lib\\site-packages (from yfinance) (2023.3.post1)\n",
      "Requirement already satisfied: peewee>=3.16.2 in c:\\users\\salman_mohamm3d\\anaconda3\\lib\\site-packages (from yfinance) (3.16.3)\n",
      "Requirement already satisfied: soupsieve>1.2 in c:\\users\\salman_mohamm3d\\anaconda3\\lib\\site-packages (from beautifulsoup4>=4.11.1->yfinance) (2.3.1)\n",
      "Requirement already satisfied: six>=1.9 in c:\\users\\salman_mohamm3d\\anaconda3\\lib\\site-packages (from html5lib>=1.1->yfinance) (1.16.0)\n",
      "Requirement already satisfied: webencodings in c:\\users\\salman_mohamm3d\\anaconda3\\lib\\site-packages (from html5lib>=1.1->yfinance) (0.5.1)\n",
      "Requirement already satisfied: python-dateutil>=2.8.1 in c:\\users\\salman_mohamm3d\\anaconda3\\lib\\site-packages (from pandas>=1.3.0->yfinance) (2.8.2)\n",
      "Requirement already satisfied: urllib3<3,>=1.21.1 in c:\\users\\salman_mohamm3d\\anaconda3\\lib\\site-packages (from requests>=2.31->yfinance) (1.26.9)\n",
      "Requirement already satisfied: idna<4,>=2.5 in c:\\users\\salman_mohamm3d\\anaconda3\\lib\\site-packages (from requests>=2.31->yfinance) (3.3)\n",
      "Requirement already satisfied: charset-normalizer<4,>=2 in c:\\users\\salman_mohamm3d\\anaconda3\\lib\\site-packages (from requests>=2.31->yfinance) (2.0.4)\n",
      "Requirement already satisfied: certifi>=2017.4.17 in c:\\users\\salman_mohamm3d\\anaconda3\\lib\\site-packages (from requests>=2.31->yfinance) (2021.10.8)\n",
      "Note: you may need to restart the kernel to use updated packages.\n"
     ]
    }
   ],
   "source": [
    "pip install yfinance"
   ]
  },
  {
   "cell_type": "code",
   "execution_count": 2,
   "id": "8f01632f",
   "metadata": {},
   "outputs": [
    {
     "name": "stdout",
     "output_type": "stream",
     "text": [
      "Requirement already satisfied: mplfinance in c:\\users\\salman_mohamm3d\\anaconda3\\lib\\site-packages (0.12.10b0)\n",
      "Requirement already satisfied: pandas in c:\\users\\salman_mohamm3d\\anaconda3\\lib\\site-packages (from mplfinance) (1.4.2)\n",
      "Requirement already satisfied: matplotlib in c:\\users\\salman_mohamm3d\\anaconda3\\lib\\site-packages (from mplfinance) (3.5.1)\n",
      "Requirement already satisfied: python-dateutil>=2.7 in c:\\users\\salman_mohamm3d\\anaconda3\\lib\\site-packages (from matplotlib->mplfinance) (2.8.2)\n",
      "Requirement already satisfied: pillow>=6.2.0 in c:\\users\\salman_mohamm3d\\anaconda3\\lib\\site-packages (from matplotlib->mplfinance) (9.0.1)\n",
      "Requirement already satisfied: fonttools>=4.22.0 in c:\\users\\salman_mohamm3d\\anaconda3\\lib\\site-packages (from matplotlib->mplfinance) (4.25.0)\n",
      "Requirement already satisfied: cycler>=0.10 in c:\\users\\salman_mohamm3d\\anaconda3\\lib\\site-packages (from matplotlib->mplfinance) (0.11.0)\n",
      "Requirement already satisfied: kiwisolver>=1.0.1 in c:\\users\\salman_mohamm3d\\anaconda3\\lib\\site-packages (from matplotlib->mplfinance) (1.3.2)\n",
      "Requirement already satisfied: numpy>=1.17 in c:\\users\\salman_mohamm3d\\anaconda3\\lib\\site-packages (from matplotlib->mplfinance) (1.21.5)\n",
      "Requirement already satisfied: pyparsing>=2.2.1 in c:\\users\\salman_mohamm3d\\anaconda3\\lib\\site-packages (from matplotlib->mplfinance) (3.0.4)\n",
      "Requirement already satisfied: packaging>=20.0 in c:\\users\\salman_mohamm3d\\anaconda3\\lib\\site-packages (from matplotlib->mplfinance) (21.3)\n",
      "Requirement already satisfied: six>=1.5 in c:\\users\\salman_mohamm3d\\anaconda3\\lib\\site-packages (from python-dateutil>=2.7->matplotlib->mplfinance) (1.16.0)\n",
      "Requirement already satisfied: pytz>=2020.1 in c:\\users\\salman_mohamm3d\\anaconda3\\lib\\site-packages (from pandas->mplfinance) (2023.3.post1)\n",
      "Note: you may need to restart the kernel to use updated packages.\n"
     ]
    }
   ],
   "source": [
    "pip install mplfinance"
   ]
  },
  {
   "cell_type": "code",
   "execution_count": 3,
   "id": "8b448a48",
   "metadata": {},
   "outputs": [
    {
     "name": "stdout",
     "output_type": "stream",
     "text": [
      "Requirement already satisfied: yahoo_fin in c:\\users\\salman_mohamm3d\\anaconda3\\lib\\site-packages (0.8.9.1)\n",
      "Requirement already satisfied: requests in c:\\users\\salman_mohamm3d\\anaconda3\\lib\\site-packages (from yahoo_fin) (2.31.0)\n",
      "Requirement already satisfied: feedparser in c:\\users\\salman_mohamm3d\\anaconda3\\lib\\site-packages (from yahoo_fin) (6.0.10)\n",
      "Requirement already satisfied: requests-html in c:\\users\\salman_mohamm3d\\anaconda3\\lib\\site-packages (from yahoo_fin) (0.10.0)\n",
      "Requirement already satisfied: pandas in c:\\users\\salman_mohamm3d\\anaconda3\\lib\\site-packages (from yahoo_fin) (1.4.2)\n",
      "Requirement already satisfied: sgmllib3k in c:\\users\\salman_mohamm3d\\anaconda3\\lib\\site-packages (from feedparser->yahoo_fin) (1.0.0)\n",
      "Requirement already satisfied: python-dateutil>=2.8.1 in c:\\users\\salman_mohamm3d\\anaconda3\\lib\\site-packages (from pandas->yahoo_fin) (2.8.2)\n",
      "Requirement already satisfied: pytz>=2020.1 in c:\\users\\salman_mohamm3d\\anaconda3\\lib\\site-packages (from pandas->yahoo_fin) (2023.3.post1)\n",
      "Requirement already satisfied: numpy>=1.18.5 in c:\\users\\salman_mohamm3d\\anaconda3\\lib\\site-packages (from pandas->yahoo_fin) (1.21.5)\n",
      "Requirement already satisfied: six>=1.5 in c:\\users\\salman_mohamm3d\\anaconda3\\lib\\site-packages (from python-dateutil>=2.8.1->pandas->yahoo_fin) (1.16.0)\n",
      "Requirement already satisfied: charset-normalizer<4,>=2 in c:\\users\\salman_mohamm3d\\anaconda3\\lib\\site-packages (from requests->yahoo_fin) (2.0.4)\n",
      "Requirement already satisfied: idna<4,>=2.5 in c:\\users\\salman_mohamm3d\\anaconda3\\lib\\site-packages (from requests->yahoo_fin) (3.3)\n",
      "Requirement already satisfied: certifi>=2017.4.17 in c:\\users\\salman_mohamm3d\\anaconda3\\lib\\site-packages (from requests->yahoo_fin) (2021.10.8)\n",
      "Requirement already satisfied: urllib3<3,>=1.21.1 in c:\\users\\salman_mohamm3d\\anaconda3\\lib\\site-packages (from requests->yahoo_fin) (1.26.9)\n",
      "Requirement already satisfied: pyppeteer>=0.0.14 in c:\\users\\salman_mohamm3d\\anaconda3\\lib\\site-packages (from requests-html->yahoo_fin) (1.0.2)\n",
      "Requirement already satisfied: pyquery in c:\\users\\salman_mohamm3d\\anaconda3\\lib\\site-packages (from requests-html->yahoo_fin) (2.0.0)\n",
      "Requirement already satisfied: parse in c:\\users\\salman_mohamm3d\\anaconda3\\lib\\site-packages (from requests-html->yahoo_fin) (1.19.1)\n",
      "Requirement already satisfied: fake-useragent in c:\\users\\salman_mohamm3d\\anaconda3\\lib\\site-packages (from requests-html->yahoo_fin) (1.2.1)\n",
      "Requirement already satisfied: w3lib in c:\\users\\salman_mohamm3d\\anaconda3\\lib\\site-packages (from requests-html->yahoo_fin) (1.21.0)\n",
      "Requirement already satisfied: bs4 in c:\\users\\salman_mohamm3d\\anaconda3\\lib\\site-packages (from requests-html->yahoo_fin) (0.0.1)\n",
      "Requirement already satisfied: pyee<9.0.0,>=8.1.0 in c:\\users\\salman_mohamm3d\\anaconda3\\lib\\site-packages (from pyppeteer>=0.0.14->requests-html->yahoo_fin) (8.2.2)\n",
      "Requirement already satisfied: importlib-metadata>=1.4 in c:\\users\\salman_mohamm3d\\anaconda3\\lib\\site-packages (from pyppeteer>=0.0.14->requests-html->yahoo_fin) (4.11.3)\n",
      "Requirement already satisfied: websockets<11.0,>=10.0 in c:\\users\\salman_mohamm3d\\anaconda3\\lib\\site-packages (from pyppeteer>=0.0.14->requests-html->yahoo_fin) (10.4)\n",
      "Requirement already satisfied: appdirs<2.0.0,>=1.4.3 in c:\\users\\salman_mohamm3d\\anaconda3\\lib\\site-packages (from pyppeteer>=0.0.14->requests-html->yahoo_fin) (1.4.4)\n",
      "Requirement already satisfied: tqdm<5.0.0,>=4.42.1 in c:\\users\\salman_mohamm3d\\anaconda3\\lib\\site-packages (from pyppeteer>=0.0.14->requests-html->yahoo_fin) (4.64.0)\n",
      "Requirement already satisfied: zipp>=0.5 in c:\\users\\salman_mohamm3d\\anaconda3\\lib\\site-packages (from importlib-metadata>=1.4->pyppeteer>=0.0.14->requests-html->yahoo_fin) (3.7.0)\n",
      "Requirement already satisfied: colorama in c:\\users\\salman_mohamm3d\\anaconda3\\lib\\site-packages (from tqdm<5.0.0,>=4.42.1->pyppeteer>=0.0.14->requests-html->yahoo_fin) (0.4.6)\n",
      "Requirement already satisfied: beautifulsoup4 in c:\\users\\salman_mohamm3d\\anaconda3\\lib\\site-packages (from bs4->requests-html->yahoo_fin) (4.11.1)\n",
      "Requirement already satisfied: soupsieve>1.2 in c:\\users\\salman_mohamm3d\\anaconda3\\lib\\site-packages (from beautifulsoup4->bs4->requests-html->yahoo_fin) (2.3.1)\n",
      "Requirement already satisfied: importlib-resources>=5.0 in c:\\users\\salman_mohamm3d\\anaconda3\\lib\\site-packages (from fake-useragent->requests-html->yahoo_fin) (6.1.0)\n",
      "Requirement already satisfied: cssselect>=1.2.0 in c:\\users\\salman_mohamm3d\\anaconda3\\lib\\site-packages (from pyquery->requests-html->yahoo_fin) (1.2.0)\n",
      "Requirement already satisfied: lxml>=2.1 in c:\\users\\salman_mohamm3d\\anaconda3\\lib\\site-packages (from pyquery->requests-html->yahoo_fin) (4.9.3)\n",
      "Note: you may need to restart the kernel to use updated packages.\n"
     ]
    }
   ],
   "source": [
    "pip install yahoo_fin"
   ]
  },
  {
   "cell_type": "markdown",
   "id": "2530ac51",
   "metadata": {},
   "source": [
    "# WIPRO (WIT)"
   ]
  },
  {
   "cell_type": "markdown",
   "id": "584dddb3",
   "metadata": {},
   "source": [
    "## Extracting the stock price data for a specific duration "
   ]
  },
  {
   "cell_type": "code",
   "execution_count": 6,
   "id": "fbdcdee1",
   "metadata": {},
   "outputs": [],
   "source": [
    "from yahoo_fin.stock_info import get_data"
   ]
  },
  {
   "cell_type": "code",
   "execution_count": 15,
   "id": "e942e086",
   "metadata": {
    "scrolled": true
   },
   "outputs": [
    {
     "data": {
      "text/html": [
       "<div>\n",
       "<style scoped>\n",
       "    .dataframe tbody tr th:only-of-type {\n",
       "        vertical-align: middle;\n",
       "    }\n",
       "\n",
       "    .dataframe tbody tr th {\n",
       "        vertical-align: top;\n",
       "    }\n",
       "\n",
       "    .dataframe thead th {\n",
       "        text-align: right;\n",
       "    }\n",
       "</style>\n",
       "<table border=\"1\" class=\"dataframe\">\n",
       "  <thead>\n",
       "    <tr style=\"text-align: right;\">\n",
       "      <th></th>\n",
       "      <th>timestamp</th>\n",
       "      <th>open</th>\n",
       "      <th>high</th>\n",
       "      <th>low</th>\n",
       "      <th>close</th>\n",
       "      <th>adjclose</th>\n",
       "      <th>volume</th>\n",
       "      <th>ticker</th>\n",
       "    </tr>\n",
       "  </thead>\n",
       "  <tbody>\n",
       "    <tr>\n",
       "      <th>0</th>\n",
       "      <td>2021-01-01</td>\n",
       "      <td>5.78</td>\n",
       "      <td>6.72</td>\n",
       "      <td>5.67</td>\n",
       "      <td>6.15</td>\n",
       "      <td>6.060697</td>\n",
       "      <td>52174700</td>\n",
       "      <td>WIT</td>\n",
       "    </tr>\n",
       "    <tr>\n",
       "      <th>1</th>\n",
       "      <td>2021-02-01</td>\n",
       "      <td>6.28</td>\n",
       "      <td>6.74</td>\n",
       "      <td>6.10</td>\n",
       "      <td>6.13</td>\n",
       "      <td>6.053867</td>\n",
       "      <td>35344100</td>\n",
       "      <td>WIT</td>\n",
       "    </tr>\n",
       "    <tr>\n",
       "      <th>2</th>\n",
       "      <td>2021-03-01</td>\n",
       "      <td>6.26</td>\n",
       "      <td>6.76</td>\n",
       "      <td>6.17</td>\n",
       "      <td>6.34</td>\n",
       "      <td>6.261260</td>\n",
       "      <td>44592300</td>\n",
       "      <td>WIT</td>\n",
       "    </tr>\n",
       "    <tr>\n",
       "      <th>3</th>\n",
       "      <td>2021-04-01</td>\n",
       "      <td>6.41</td>\n",
       "      <td>7.36</td>\n",
       "      <td>6.09</td>\n",
       "      <td>7.16</td>\n",
       "      <td>7.071075</td>\n",
       "      <td>33654300</td>\n",
       "      <td>WIT</td>\n",
       "    </tr>\n",
       "    <tr>\n",
       "      <th>4</th>\n",
       "      <td>2021-05-01</td>\n",
       "      <td>7.17</td>\n",
       "      <td>7.98</td>\n",
       "      <td>7.07</td>\n",
       "      <td>7.93</td>\n",
       "      <td>7.831512</td>\n",
       "      <td>31478500</td>\n",
       "      <td>WIT</td>\n",
       "    </tr>\n",
       "    <tr>\n",
       "      <th>5</th>\n",
       "      <td>2021-06-01</td>\n",
       "      <td>7.97</td>\n",
       "      <td>8.32</td>\n",
       "      <td>7.75</td>\n",
       "      <td>7.81</td>\n",
       "      <td>7.713002</td>\n",
       "      <td>41219900</td>\n",
       "      <td>WIT</td>\n",
       "    </tr>\n",
       "    <tr>\n",
       "      <th>6</th>\n",
       "      <td>2021-07-01</td>\n",
       "      <td>7.75</td>\n",
       "      <td>8.60</td>\n",
       "      <td>7.48</td>\n",
       "      <td>8.33</td>\n",
       "      <td>8.226544</td>\n",
       "      <td>42733600</td>\n",
       "      <td>WIT</td>\n",
       "    </tr>\n",
       "    <tr>\n",
       "      <th>7</th>\n",
       "      <td>2021-08-01</td>\n",
       "      <td>8.40</td>\n",
       "      <td>9.40</td>\n",
       "      <td>8.39</td>\n",
       "      <td>9.34</td>\n",
       "      <td>9.224000</td>\n",
       "      <td>37641700</td>\n",
       "      <td>WIT</td>\n",
       "    </tr>\n",
       "    <tr>\n",
       "      <th>8</th>\n",
       "      <td>2021-09-01</td>\n",
       "      <td>9.35</td>\n",
       "      <td>9.80</td>\n",
       "      <td>8.81</td>\n",
       "      <td>8.83</td>\n",
       "      <td>8.720334</td>\n",
       "      <td>42461100</td>\n",
       "      <td>WIT</td>\n",
       "    </tr>\n",
       "    <tr>\n",
       "      <th>9</th>\n",
       "      <td>2021-10-01</td>\n",
       "      <td>8.91</td>\n",
       "      <td>9.96</td>\n",
       "      <td>8.71</td>\n",
       "      <td>8.96</td>\n",
       "      <td>8.848720</td>\n",
       "      <td>41803300</td>\n",
       "      <td>WIT</td>\n",
       "    </tr>\n",
       "  </tbody>\n",
       "</table>\n",
       "</div>"
      ],
      "text/plain": [
       "   timestamp  open  high   low  close  adjclose    volume ticker\n",
       "0 2021-01-01  5.78  6.72  5.67   6.15  6.060697  52174700    WIT\n",
       "1 2021-02-01  6.28  6.74  6.10   6.13  6.053867  35344100    WIT\n",
       "2 2021-03-01  6.26  6.76  6.17   6.34  6.261260  44592300    WIT\n",
       "3 2021-04-01  6.41  7.36  6.09   7.16  7.071075  33654300    WIT\n",
       "4 2021-05-01  7.17  7.98  7.07   7.93  7.831512  31478500    WIT\n",
       "5 2021-06-01  7.97  8.32  7.75   7.81  7.713002  41219900    WIT\n",
       "6 2021-07-01  7.75  8.60  7.48   8.33  8.226544  42733600    WIT\n",
       "7 2021-08-01  8.40  9.40  8.39   9.34  9.224000  37641700    WIT\n",
       "8 2021-09-01  9.35  9.80  8.81   8.83  8.720334  42461100    WIT\n",
       "9 2021-10-01  8.91  9.96  8.71   8.96  8.848720  41803300    WIT"
      ]
     },
     "execution_count": 15,
     "metadata": {},
     "output_type": "execute_result"
    }
   ],
   "source": [
    "wipro_monthly = get_data(\"wit\", start_date=\"01/01/2021\", end_date=\"11/01/2021\", index_as_date=True, interval=\"1mo\") #Getting the wipro stock price data  with interval of 1 Month\n",
    "wipro_monthly.reset_index(inplace=True)  #Reseting the index of DataFrame\n",
    "wipro_monthly.rename(columns={'index': 'timestamp'}, inplace=True)   #Renaming the index column of the DataFrame to timestamp\n",
    "wipro_monthly"
   ]
  },
  {
   "cell_type": "markdown",
   "id": "5b65082a",
   "metadata": {},
   "source": [
    "## finding the montly stock price changes and adding a new column to data set "
   ]
  },
  {
   "cell_type": "code",
   "execution_count": 16,
   "id": "66ce0536",
   "metadata": {},
   "outputs": [
    {
     "name": "stdout",
     "output_type": "stream",
     "text": [
      "   timestamp  open  high   low  close  adjclose    volume ticker  \\\n",
      "0 2021-01-01  5.78  6.72  5.67   6.15  6.060697  52174700    WIT   \n",
      "1 2021-02-01  6.28  6.74  6.10   6.13  6.053867  35344100    WIT   \n",
      "2 2021-03-01  6.26  6.76  6.17   6.34  6.261260  44592300    WIT   \n",
      "3 2021-04-01  6.41  7.36  6.09   7.16  7.071075  33654300    WIT   \n",
      "4 2021-05-01  7.17  7.98  7.07   7.93  7.831512  31478500    WIT   \n",
      "5 2021-06-01  7.97  8.32  7.75   7.81  7.713002  41219900    WIT   \n",
      "6 2021-07-01  7.75  8.60  7.48   8.33  8.226544  42733600    WIT   \n",
      "7 2021-08-01  8.40  9.40  8.39   9.34  9.224000  37641700    WIT   \n",
      "8 2021-09-01  9.35  9.80  8.81   8.83  8.720334  42461100    WIT   \n",
      "9 2021-10-01  8.91  9.96  8.71   8.96  8.848720  41803300    WIT   \n",
      "\n",
      "   Monthly Changes  \n",
      "0             0.00  \n",
      "1            -0.02  \n",
      "2             0.21  \n",
      "3             0.82  \n",
      "4             0.77  \n",
      "5            -0.12  \n",
      "6             0.52  \n",
      "7             1.01  \n",
      "8            -0.51  \n",
      "9             0.13  \n"
     ]
    }
   ],
   "source": [
    "# Calculate monthly stock price changes\n",
    "wipro_monthly['Monthly Changes'] = wipro_monthly['close'].diff().fillna(0)\n",
    "\n",
    "# Print the DataFrame with weekly changes\n",
    "print(wipro_monthly)\n"
   ]
  },
  {
   "cell_type": "markdown",
   "id": "f8919de2",
   "metadata": {},
   "source": [
    "## Extracting the articles for the same duration Using Web Scraping"
   ]
  },
  {
   "cell_type": "code",
   "execution_count": 17,
   "id": "e134388b",
   "metadata": {
    "scrolled": true
   },
   "outputs": [
    {
     "name": "stdout",
     "output_type": "stream",
     "text": [
      "Headline: India's Wipro CFO Dalal resigns\n",
      "Article URL: /article/idUSL4N3AX2OS\n",
      "\n",
      "Headline: India's Wipro says CFO Dalal resigns, replaced by 20-yr veteran Iyer\n",
      "Article URL: /article/idUSKBN30R0VJ\n",
      "\n",
      "Headline: UPDATE 2-India's Wipro says CFO Dalal resigns, replaced by 20-yr veteran Iyer\n",
      "Article URL: /article/idUSL4N3AX2P5\n",
      "\n",
      "Headline: Cognizant appoints former Wipro finance chief Jatin Dalal as CFO\n",
      "Article URL: /article/idUSL4N3B433K\n",
      "\n",
      "Headline: Cognizant appoints former Wipro finance chief Jatin Dalal as CFO\n",
      "Article URL: /article/idUSKBN30Y16B\n",
      "\n",
      "Headline: UPDATE 1-Cognizant appoints former Wipro finance chief Jatin Dalal as CFO\n",
      "Article URL: /article/idUSL4N3B436C\n",
      "\n",
      "Headline: Indian IT firms set for \"washout\" year, focus now on 2025 - J.P.Morgan\n",
      "Article URL: /article/idUSL4N3BB16W\n",
      "\n",
      "Headline: Indian IT firms set for \"washout\" year, focus now on 2025 - J.P.Morgan\n",
      "Article URL: /article/idUSKBN3150TX\n",
      "\n",
      "Headline: INDIA STOCKS-Indian shares extend losses as global risk appetite wavers\n",
      "Article URL: /article/idUSL4N3AY124\n",
      "\n",
      "Headline: INDIA STOCKS-Indian shares set for subdued open as Fed angst weighs\n",
      "Article URL: /article/idUSL4N3AY0LJ\n",
      "\n"
     ]
    }
   ],
   "source": [
    "import requests\n",
    "from bs4 import BeautifulSoup\n",
    "\n",
    "def scrape_news_articles(company_name, start_date, end_date):\n",
    "    try:\n",
    "        # Define the URL for Reuters news search results\n",
    "        url = f\"https://www.reuters.com/search/news?blob={company_name}&dateRange={start_date}~{end_date}\"\n",
    "\n",
    "        # Send an HTTP GET request to fetch the search results page\n",
    "        response = requests.get(url)\n",
    "\n",
    "        # Check if the request was successful (status code 200)\n",
    "        if response.status_code == 200:\n",
    "            # Parse the HTML content of the page using BeautifulSoup\n",
    "            soup = BeautifulSoup(response.text, 'html.parser')\n",
    "\n",
    "            # Find the elements that contain news article links\n",
    "            article_links = soup.find_all('div', class_='search-result-content')\n",
    "\n",
    "            # Extract and print the headlines and links of the articles\n",
    "            for link in article_links:\n",
    "                headline = link.find('h3').text.strip()\n",
    "                article_url = link.find('a')['href']\n",
    "                print(f\"Headline: {headline}\")\n",
    "                print(f\"Article URL: {article_url}\")\n",
    "                print()\n",
    "\n",
    "        else:\n",
    "            print(\"Failed to retrieve data. Status code:\", response.status_code)\n",
    "\n",
    "    except Exception as e:\n",
    "        print(\"An error occurred:\", str(e))\n",
    "\n",
    "\n",
    "        \n",
    "company_name = \"Wipro\"   \n",
    "start_date = \"2021-01-01\"    \n",
    "end_date = \"2021-10-01\"    \n",
    "scrape_news_articles(company_name, start_date, end_date)\n"
   ]
  },
  {
   "cell_type": "markdown",
   "id": "187ef6f6",
   "metadata": {},
   "source": [
    "## Getting the senitment scores of each article using VADER LEXICON Model and adding the scores in a column to the data set "
   ]
  },
  {
   "cell_type": "code",
   "execution_count": 16,
   "id": "06e773a6",
   "metadata": {},
   "outputs": [],
   "source": []
  },
  {
   "cell_type": "code",
   "execution_count": 18,
   "id": "28e6f3e0",
   "metadata": {},
   "outputs": [
    {
     "name": "stderr",
     "output_type": "stream",
     "text": [
      "[nltk_data] Downloading package vader_lexicon to\n",
      "[nltk_data]     C:\\Users\\salman_mohamm3d\\AppData\\Roaming\\nltk_data...\n",
      "[nltk_data]   Package vader_lexicon is already up-to-date!\n"
     ]
    },
    {
     "name": "stdout",
     "output_type": "stream",
     "text": [
      "Article URL: https://www.reuters.com/article/idUSL4N3AX2OS\n",
      "Sentiment: 0.9242\n",
      "Positive Score: 0.0690\n",
      "Negative Score: 0.0500\n",
      "Neutral Score: 0.8810\n",
      "\n",
      "Article URL: https://www.reuters.com/article/idUSKBN30R0VJ\n",
      "Sentiment: 0.9242\n",
      "Positive Score: 0.0690\n",
      "Negative Score: 0.0500\n",
      "Neutral Score: 0.8810\n",
      "\n",
      "Article URL: https://www.reuters.com/article/idUSL4N3AX2P5\n",
      "Sentiment: 0.9242\n",
      "Positive Score: 0.0690\n",
      "Negative Score: 0.0500\n",
      "Neutral Score: 0.8810\n",
      "\n",
      "Article URL: https://www.reuters.com/article/idUSL4N3B433K\n",
      "Sentiment: 0.9850\n",
      "Positive Score: 0.0880\n",
      "Negative Score: 0.0250\n",
      "Neutral Score: 0.8870\n",
      "\n",
      "Article URL: https://www.reuters.com/article/idUSKBN30Y16B\n",
      "Sentiment: 0.9850\n",
      "Positive Score: 0.0880\n",
      "Negative Score: 0.0250\n",
      "Neutral Score: 0.8870\n",
      "\n",
      "Article URL: https://www.reuters.com/article/idUSL4N3B436C\n",
      "Sentiment: 0.9850\n",
      "Positive Score: 0.0880\n",
      "Negative Score: 0.0250\n",
      "Neutral Score: 0.8870\n",
      "\n",
      "Article URL: https://www.reuters.com/article/idUSL4N3BB16W\n",
      "Sentiment: 0.9770\n",
      "Positive Score: 0.0980\n",
      "Negative Score: 0.0640\n",
      "Neutral Score: 0.8370\n",
      "\n",
      "Article URL: https://www.reuters.com/article/idUSKBN3150TX\n",
      "Sentiment: 0.9770\n",
      "Positive Score: 0.0980\n",
      "Negative Score: 0.0640\n",
      "Neutral Score: 0.8370\n",
      "\n",
      "Article URL: https://www.reuters.com/article/idUSL4N3AY124\n",
      "Sentiment: -0.7801\n",
      "Positive Score: 0.0640\n",
      "Negative Score: 0.0790\n",
      "Neutral Score: 0.8570\n",
      "\n",
      "Article URL: https://www.reuters.com/article/idUSL4N3AY0LJ\n",
      "Sentiment: 0.9774\n",
      "Positive Score: 0.0900\n",
      "Negative Score: 0.0380\n",
      "Neutral Score: 0.8710\n",
      "\n",
      "   timestamp  open  high   low  close  adjclose    volume ticker  \\\n",
      "0 2021-01-01  5.78  6.72  5.67   6.15  6.060697  52174700    WIT   \n",
      "1 2021-02-01  6.28  6.74  6.10   6.13  6.053867  35344100    WIT   \n",
      "2 2021-03-01  6.26  6.76  6.17   6.34  6.261260  44592300    WIT   \n",
      "3 2021-04-01  6.41  7.36  6.09   7.16  7.071075  33654300    WIT   \n",
      "4 2021-05-01  7.17  7.98  7.07   7.93  7.831512  31478500    WIT   \n",
      "5 2021-06-01  7.97  8.32  7.75   7.81  7.713002  41219900    WIT   \n",
      "6 2021-07-01  7.75  8.60  7.48   8.33  8.226544  42733600    WIT   \n",
      "7 2021-08-01  8.40  9.40  8.39   9.34  9.224000  37641700    WIT   \n",
      "8 2021-09-01  9.35  9.80  8.81   8.83  8.720334  42461100    WIT   \n",
      "9 2021-10-01  8.91  9.96  8.71   8.96  8.848720  41803300    WIT   \n",
      "\n",
      "   Monthly Changes  Compound Scores  \n",
      "0             0.00           0.9242  \n",
      "1            -0.02           0.9242  \n",
      "2             0.21           0.9242  \n",
      "3             0.82           0.9850  \n",
      "4             0.77           0.9850  \n",
      "5            -0.12           0.9850  \n",
      "6             0.52           0.9770  \n",
      "7             1.01           0.9770  \n",
      "8            -0.51          -0.7801  \n",
      "9             0.13           0.9774  \n"
     ]
    }
   ],
   "source": [
    "import requests\n",
    "from bs4 import BeautifulSoup\n",
    "import nltk\n",
    "from nltk.sentiment.vader import SentimentIntensityAnalyzer\n",
    "import pandas as pd\n",
    "\n",
    "# Download the NLTK data for sentiment analysis (if not already downloaded)\n",
    "nltk.download('vader_lexicon')\n",
    "\n",
    "# Create a SentimentIntensityAnalyzer object\n",
    "analyzer = SentimentIntensityAnalyzer()\n",
    "\n",
    "# List of article URLs\n",
    "article_urls = [\n",
    "    \"https://www.reuters.com/article/idUSL4N3AX2OS\",\n",
    "    \"https://www.reuters.com/article/idUSKBN30R0VJ\",\n",
    "    \"https://www.reuters.com/article/idUSL4N3AX2P5\",\n",
    "    \"https://www.reuters.com/article/idUSL4N3B433K\",\n",
    "    \"https://www.reuters.com/article/idUSKBN30Y16B\",\n",
    "    \"https://www.reuters.com/article/idUSL4N3B436C\",\n",
    "    \"https://www.reuters.com/article/idUSL4N3BB16W\",\n",
    "    \"https://www.reuters.com/article/idUSKBN3150TX\",\n",
    "    \"https://www.reuters.com/article/idUSL4N3AY124\",\n",
    "    \"https://www.reuters.com/article/idUSL4N3AY0LJ\"\n",
    "]\n",
    "\n",
    "# Create an empty list to store compound scores\n",
    "compound_scores = []\n",
    "\n",
    "for article_url in article_urls:\n",
    "    try:\n",
    "        # Send an HTTP GET request to fetch the article content\n",
    "        response = requests.get(article_url)\n",
    "\n",
    "        # Check if the request was successful (status code 200)\n",
    "        if response.status_code == 200:\n",
    "            # Parse the HTML content of the article using BeautifulSoup\n",
    "            soup = BeautifulSoup(response.text, 'html.parser')\n",
    "\n",
    "            # Extract the article text (customize this based on the website's structure)\n",
    "            article_text = \"\"\n",
    "\n",
    "            # Assuming the article content is within paragraph tags, extract and concatenate the text\n",
    "            paragraphs = soup.find_all('p')\n",
    "            for paragraph in paragraphs:\n",
    "                article_text += paragraph.get_text() + \"\\n\"\n",
    "\n",
    "            # Analyze the sentiment of the article\n",
    "            sentiment_scores = analyzer.polarity_scores(article_text)\n",
    "            \n",
    "            # Append the compound score to the list\n",
    "            compound_scores.append(sentiment_scores['compound'])\n",
    "\n",
    "            # Print the sentiment and sentiment scores for the current article\n",
    "            print(\"Article URL:\", article_url)\n",
    "            print(f\"Sentiment: {sentiment_scores['compound']:.4f}\")\n",
    "            print(f\"Positive Score: {sentiment_scores['pos']:.4f}\")\n",
    "            print(f\"Negative Score: {sentiment_scores['neg']:.4f}\")\n",
    "            print(f\"Neutral Score: {sentiment_scores['neu']:.4f}\")\n",
    "            print()\n",
    "\n",
    "        else:\n",
    "            print(\"Failed to retrieve data. Status code:\", response.status_code)\n",
    "\n",
    "    except Exception as e:\n",
    "        print(\"An error occurred:\", str(e))\n",
    "\n",
    "# Add the list of compound scores as a new column to the wipro_weekly DataFrame\n",
    "wipro_monthly['Compound Scores'] = compound_scores\n",
    "\n",
    "# Print the updated DataFrame\n",
    "print(wipro_monthly)\n"
   ]
  },
  {
   "cell_type": "markdown",
   "id": "0b0302f8",
   "metadata": {},
   "source": [
    "## Visualizations : - "
   ]
  },
  {
   "cell_type": "markdown",
   "id": "6dbdb2d1",
   "metadata": {},
   "source": [
    "### Scatter Plot "
   ]
  },
  {
   "cell_type": "code",
   "execution_count": 19,
   "id": "f4f92fd5",
   "metadata": {},
   "outputs": [
    {
     "data": {
      "image/png": "[encoded data removed]",
      "text/plain": [
       "<Figure size 576x432 with 1 Axes>"
      ]
     },
     "metadata": {
      "needs_background": "light"
     },
     "output_type": "display_data"
    }
   ],
   "source": [
    "import matplotlib.pyplot as plt\n",
    "\n",
    "# Extract 'Monthly Changes' and 'Compound Scores' columns\n",
    "monthly_changes = wipro_monthly['Monthly Changes']\n",
    "compound_scores = wipro_monthly['Compound Scores']\n",
    "\n",
    "# Create a scatter plot\n",
    "plt.figure(figsize=(8, 6))\n",
    "plt.scatter(monthly_changes, compound_scores, alpha=1)\n",
    "plt.xlabel('Monthly Changes')\n",
    "plt.ylabel('Compound Scores')\n",
    "plt.title('Scatter Plot: Monthly Changes vs. Compound Scores')\n",
    "plt.grid(True)\n",
    "plt.show()\n"
   ]
  },
  {
   "cell_type": "markdown",
   "id": "7381af6e",
   "metadata": {},
   "source": [
    "## Getting  the Correlation "
   ]
  },
  {
   "cell_type": "code",
   "execution_count": null,
   "id": "a6151eee",
   "metadata": {},
   "outputs": [],
   "source": [
    "# So according to the scatter plot the pattern is not linear and has a outlier due to which pearsons correlation cannot be used as it sensitive to the outliers \n",
    "# in that case we've to use either spearman's rank or kwndall tau rank correlation "
   ]
  },
  {
   "cell_type": "code",
   "execution_count": 23,
   "id": "9c3bae34",
   "metadata": {},
   "outputs": [],
   "source": [
    "# import pandas as pd\n",
    "\n",
    "# # Calculate the Pearson correlation coefficient\n",
    "# pearson_correlation = wipro_monthly['Monthly Changes'].corr(wipro_monthly['Compound Scores'])\n",
    "\n",
    "# # Print the Pearson correlation coefficient\n",
    "# print(f\"Pearson Correlation: {pearson_correlation:.2f}\")\n"
   ]
  },
  {
   "cell_type": "code",
   "execution_count": 21,
   "id": "f21b64a2",
   "metadata": {},
   "outputs": [
    {
     "name": "stdout",
     "output_type": "stream",
     "text": [
      "Spearman Correlation: 0.46\n"
     ]
    }
   ],
   "source": [
    "import pandas as pd\n",
    "\n",
    "# Calculate the Spearman correlation coefficient\n",
    "spearman_correlation = wipro_monthly['Monthly Changes'].corr(wipro_monthly['Compound Scores'], method='spearman')\n",
    "\n",
    "# Print the Spearman correlation coefficient\n",
    "print(f\"Spearman Correlation: {spearman_correlation:.2f}\")\n"
   ]
  },
  {
   "cell_type": "code",
   "execution_count": null,
   "id": "8b54a6d0",
   "metadata": {},
   "outputs": [],
   "source": []
  },
  {
   "cell_type": "markdown",
   "id": "6562765c",
   "metadata": {},
   "source": [
    "### Visualizing a Heatmap"
   ]
  },
  {
   "cell_type": "code",
   "execution_count": 24,
   "id": "d03e46d2",
   "metadata": {},
   "outputs": [
    {
     "data": {
      "image/png": "[encoded data removed]",
      "text/plain": [
       "<Figure size 720x432 with 2 Axes>"
      ]
     },
     "metadata": {
      "needs_background": "light"
     },
     "output_type": "display_data"
    }
   ],
   "source": [
    "import matplotlib.pyplot as plt\n",
    "import seaborn as sns\n",
    "\n",
    "# Calculate the Spearman rank correlation matrix\n",
    "spearman_corr_matrix = wipro_monthly[['Monthly Changes', 'Compound Scores']].corr(method='spearman')\n",
    "\n",
    "# Create a heatmap\n",
    "plt.figure(figsize=(10, 6))  # Set the figure size (adjust as needed)\n",
    "sns.heatmap(spearman_corr_matrix, annot=True, cmap='coolwarm', fmt=\".2f\")  # Create the heatmap\n",
    "\n",
    "# Add title\n",
    "plt.title('Spearman Rank Correlation Heatmap: Monthly Changes vs. Compound Scores')\n",
    "\n",
    "# Show the plot\n",
    "plt.show()\n"
   ]
  },
  {
   "cell_type": "code",
   "execution_count": null,
   "id": "d6f16fe3",
   "metadata": {},
   "outputs": [],
   "source": []
  },
  {
   "cell_type": "code",
   "execution_count": null,
   "id": "18a8a364",
   "metadata": {},
   "outputs": [],
   "source": []
  },
  {
   "cell_type": "markdown",
   "id": "fc608339",
   "metadata": {},
   "source": [
    "## Visualizing a Line Plot "
   ]
  },
  {
   "cell_type": "code",
   "execution_count": 25,
   "id": "5328c523",
   "metadata": {},
   "outputs": [
    {
     "data": {
      "image/png": "[encoded data removed]",
      "text/plain": [
       "<Figure size 720x432 with 1 Axes>"
      ]
     },
     "metadata": {
      "needs_background": "light"
     },
     "output_type": "display_data"
    }
   ],
   "source": [
    "import matplotlib.pyplot as plt\n",
    "import seaborn as sns\n",
    "\n",
    "# Extract 'Monthly Changes' and 'Compound Scores' columns\n",
    "monthly_changes = wipro_monthly['Monthly Changes']\n",
    "compound_scores = wipro_monthly['Compound Scores']\n",
    "\n",
    "# Create a line plot\n",
    "plt.figure(figsize=(10, 6))  # Set the figure size (adjust as needed)\n",
    "sns.lineplot(x=monthly_changes.index, y=monthly_changes, label='Monthly Changes', color='blue')\n",
    "sns.lineplot(x=compound_scores.index, y=compound_scores, label='Compound Scores', color='orange')\n",
    "\n",
    "# Add labels and title\n",
    "plt.xlabel('Month')\n",
    "plt.ylabel('Value')\n",
    "plt.title('Line Plot: Monthly Changes vs. Compound Scores')\n",
    "\n",
    "# Show legend\n",
    "plt.legend()\n",
    "\n",
    "# Show the plot\n",
    "plt.grid(True)\n",
    "plt.show()\n"
   ]
  },
  {
   "cell_type": "code",
   "execution_count": null,
   "id": "a53f480d",
   "metadata": {},
   "outputs": [],
   "source": []
  },
  {
   "cell_type": "code",
   "execution_count": null,
   "id": "fde0a2d5",
   "metadata": {},
   "outputs": [],
   "source": []
  },
  {
   "cell_type": "markdown",
   "id": "cc192931",
   "metadata": {},
   "source": [
    "# MSI "
   ]
  },
  {
   "cell_type": "markdown",
   "id": "d19bdb8d",
   "metadata": {},
   "source": [
    "## Extracting the stock price data for a specific duration "
   ]
  },
  {
   "cell_type": "code",
   "execution_count": 8,
   "id": "7cf9b521",
   "metadata": {},
   "outputs": [
    {
     "data": {
      "text/html": [
       "<div>\n",
       "<style scoped>\n",
       "    .dataframe tbody tr th:only-of-type {\n",
       "        vertical-align: middle;\n",
       "    }\n",
       "\n",
       "    .dataframe tbody tr th {\n",
       "        vertical-align: top;\n",
       "    }\n",
       "\n",
       "    .dataframe thead th {\n",
       "        text-align: right;\n",
       "    }\n",
       "</style>\n",
       "<table border=\"1\" class=\"dataframe\">\n",
       "  <thead>\n",
       "    <tr style=\"text-align: right;\">\n",
       "      <th></th>\n",
       "      <th>timestamp</th>\n",
       "      <th>open</th>\n",
       "      <th>high</th>\n",
       "      <th>low</th>\n",
       "      <th>close</th>\n",
       "      <th>adjclose</th>\n",
       "      <th>volume</th>\n",
       "      <th>ticker</th>\n",
       "    </tr>\n",
       "  </thead>\n",
       "  <tbody>\n",
       "    <tr>\n",
       "      <th>0</th>\n",
       "      <td>2021-01-01</td>\n",
       "      <td>170.639999</td>\n",
       "      <td>177.000000</td>\n",
       "      <td>165.600006</td>\n",
       "      <td>167.550003</td>\n",
       "      <td>161.473373</td>\n",
       "      <td>14066700</td>\n",
       "      <td>MSI</td>\n",
       "    </tr>\n",
       "    <tr>\n",
       "      <th>1</th>\n",
       "      <td>2021-02-01</td>\n",
       "      <td>168.669998</td>\n",
       "      <td>184.880005</td>\n",
       "      <td>168.669998</td>\n",
       "      <td>175.479996</td>\n",
       "      <td>169.115784</td>\n",
       "      <td>14061300</td>\n",
       "      <td>MSI</td>\n",
       "    </tr>\n",
       "    <tr>\n",
       "      <th>2</th>\n",
       "      <td>2021-03-01</td>\n",
       "      <td>176.729996</td>\n",
       "      <td>190.619995</td>\n",
       "      <td>173.789993</td>\n",
       "      <td>188.050003</td>\n",
       "      <td>181.229904</td>\n",
       "      <td>17230900</td>\n",
       "      <td>MSI</td>\n",
       "    </tr>\n",
       "    <tr>\n",
       "      <th>3</th>\n",
       "      <td>2021-04-01</td>\n",
       "      <td>188.330002</td>\n",
       "      <td>192.839996</td>\n",
       "      <td>184.660004</td>\n",
       "      <td>188.300003</td>\n",
       "      <td>182.195419</td>\n",
       "      <td>12944300</td>\n",
       "      <td>MSI</td>\n",
       "    </tr>\n",
       "    <tr>\n",
       "      <th>4</th>\n",
       "      <td>2021-05-01</td>\n",
       "      <td>188.779999</td>\n",
       "      <td>206.039993</td>\n",
       "      <td>184.550003</td>\n",
       "      <td>205.309998</td>\n",
       "      <td>198.653976</td>\n",
       "      <td>14700600</td>\n",
       "      <td>MSI</td>\n",
       "    </tr>\n",
       "    <tr>\n",
       "      <th>5</th>\n",
       "      <td>2021-06-01</td>\n",
       "      <td>206.220001</td>\n",
       "      <td>217.860001</td>\n",
       "      <td>203.190002</td>\n",
       "      <td>216.850006</td>\n",
       "      <td>209.819839</td>\n",
       "      <td>15409300</td>\n",
       "      <td>MSI</td>\n",
       "    </tr>\n",
       "    <tr>\n",
       "      <th>6</th>\n",
       "      <td>2021-07-01</td>\n",
       "      <td>217.600006</td>\n",
       "      <td>225.009995</td>\n",
       "      <td>215.289993</td>\n",
       "      <td>223.919998</td>\n",
       "      <td>217.387619</td>\n",
       "      <td>11222900</td>\n",
       "      <td>MSI</td>\n",
       "    </tr>\n",
       "    <tr>\n",
       "      <th>7</th>\n",
       "      <td>2021-08-01</td>\n",
       "      <td>224.860001</td>\n",
       "      <td>244.899994</td>\n",
       "      <td>220.830002</td>\n",
       "      <td>244.220001</td>\n",
       "      <td>237.095428</td>\n",
       "      <td>15609300</td>\n",
       "      <td>MSI</td>\n",
       "    </tr>\n",
       "  </tbody>\n",
       "</table>\n",
       "</div>"
      ],
      "text/plain": [
       "   timestamp        open        high         low       close    adjclose  \\\n",
       "0 2021-01-01  170.639999  177.000000  165.600006  167.550003  161.473373   \n",
       "1 2021-02-01  168.669998  184.880005  168.669998  175.479996  169.115784   \n",
       "2 2021-03-01  176.729996  190.619995  173.789993  188.050003  181.229904   \n",
       "3 2021-04-01  188.330002  192.839996  184.660004  188.300003  182.195419   \n",
       "4 2021-05-01  188.779999  206.039993  184.550003  205.309998  198.653976   \n",
       "5 2021-06-01  206.220001  217.860001  203.190002  216.850006  209.819839   \n",
       "6 2021-07-01  217.600006  225.009995  215.289993  223.919998  217.387619   \n",
       "7 2021-08-01  224.860001  244.899994  220.830002  244.220001  237.095428   \n",
       "\n",
       "     volume ticker  \n",
       "0  14066700    MSI  \n",
       "1  14061300    MSI  \n",
       "2  17230900    MSI  \n",
       "3  12944300    MSI  \n",
       "4  14700600    MSI  \n",
       "5  15409300    MSI  \n",
       "6  11222900    MSI  \n",
       "7  15609300    MSI  "
      ]
     },
     "execution_count": 8,
     "metadata": {},
     "output_type": "execute_result"
    }
   ],
   "source": [
    "msi_monthly = get_data(\"msi\", start_date=\"01/01/2021\", end_date=\"09/01/2021\", index_as_date=True, interval=\"1mo\") #Getting the wipro stock price data  with interval of 1 Month\n",
    "msi_monthly.reset_index(inplace=True)  #Reseting the index of DataFrame\n",
    "msi_monthly.rename(columns={'index': 'timestamp'}, inplace=True)   #Renaming the index column of the DataFrame to timestamp\n",
    "msi_monthly"
   ]
  },
  {
   "cell_type": "markdown",
   "id": "8cc813d6",
   "metadata": {},
   "source": [
    "## finding the montly stock price changes and adding a new column to data set "
   ]
  },
  {
   "cell_type": "code",
   "execution_count": 9,
   "id": "7ec7b4ab",
   "metadata": {},
   "outputs": [
    {
     "name": "stdout",
     "output_type": "stream",
     "text": [
      "   timestamp        open        high         low       close    adjclose  \\\n",
      "0 2021-01-01  170.639999  177.000000  165.600006  167.550003  161.473373   \n",
      "1 2021-02-01  168.669998  184.880005  168.669998  175.479996  169.115784   \n",
      "2 2021-03-01  176.729996  190.619995  173.789993  188.050003  181.229904   \n",
      "3 2021-04-01  188.330002  192.839996  184.660004  188.300003  182.195419   \n",
      "4 2021-05-01  188.779999  206.039993  184.550003  205.309998  198.653976   \n",
      "5 2021-06-01  206.220001  217.860001  203.190002  216.850006  209.819839   \n",
      "6 2021-07-01  217.600006  225.009995  215.289993  223.919998  217.387619   \n",
      "7 2021-08-01  224.860001  244.899994  220.830002  244.220001  237.095428   \n",
      "\n",
      "     volume ticker  Monthly Changes  \n",
      "0  14066700    MSI         0.000000  \n",
      "1  14061300    MSI         7.929993  \n",
      "2  17230900    MSI        12.570007  \n",
      "3  12944300    MSI         0.250000  \n",
      "4  14700600    MSI        17.009995  \n",
      "5  15409300    MSI        11.540009  \n",
      "6  11222900    MSI         7.069992  \n",
      "7  15609300    MSI        20.300003  \n"
     ]
    }
   ],
   "source": [
    "# Calculate monthly stock price changes\n",
    "msi_monthly['Monthly Changes'] = msi_monthly['close'].diff().fillna(0)\n",
    "\n",
    "# Print the DataFrame with weekly changes\n",
    "print(msi_monthly)\n"
   ]
  },
  {
   "cell_type": "markdown",
   "id": "01e287bf",
   "metadata": {},
   "source": [
    "## Extracting the articles using API CAlls"
   ]
  },
  {
   "cell_type": "code",
   "execution_count": 108,
   "id": "8801210d",
   "metadata": {},
   "outputs": [],
   "source": [
    "import yfinance as yf"
   ]
  },
  {
   "cell_type": "code",
   "execution_count": 109,
   "id": "e9e9669b",
   "metadata": {},
   "outputs": [
    {
     "name": "stdout",
     "output_type": "stream",
     "text": [
      "Nokia (NOK) Establishes Advanced 6G Research Facility in India\n",
      "https://finance.yahoo.com/news/nokia-nok-establishes-advanced-6g-170800151.html\n",
      "\n",
      "Keysight (KEYS) Solution Boosts Satellite Communication Testing\n",
      "https://finance.yahoo.com/news/keysight-keys-solution-boosts-satellite-170300345.html\n",
      "\n",
      "Is AT&T (T) Exploring DirecTV Stake Options for Core Focus?\n",
      "https://finance.yahoo.com/news/t-t-exploring-directv-stake-125900231.html\n",
      "\n",
      "Cambium (CMBM) Issues Preliminary Q3 Results, Revenues Down\n",
      "https://finance.yahoo.com/news/cambium-cmbm-issues-preliminary-q3-125300925.html\n",
      "\n",
      "Motorola Solutions Foundation Hosts Inaugural Grant Partner Summit on First Responder Wellness\n",
      "https://finance.yahoo.com/news/motorola-solutions-foundation-hosts-inaugural-203000341.html\n",
      "\n",
      "What Makes Altice (ATUS) an Enticing Investment Option Now?\n",
      "https://finance.yahoo.com/news/makes-altice-atus-enticing-investment-140200741.html\n",
      "\n",
      "Can Intel (INTC) Script Chip Turnaround as a Standalone Entity?\n",
      "https://finance.yahoo.com/news/intel-intc-script-chip-turnaround-140000284.html\n",
      "\n",
      "InterDigital (IDCC), IIT Kanpur Team Up to Boost 6G Innovation\n",
      "https://finance.yahoo.com/news/interdigital-idcc-iit-kanpur-team-155800856.html\n",
      "\n"
     ]
    }
   ],
   "source": [
    "# Choose a ticker symbol\n",
    "ticker = \"MSI\"\n",
    "\n",
    "# Get the ticker object\n",
    "stock = yf.Ticker(ticker)\n",
    "\n",
    "# Get the news articles for the ticker\n",
    "news = stock.news\n",
    "\n",
    "# Print the titles and links of the articles\n",
    "for article in news:\n",
    "    print(article[\"title\"])\n",
    "    print(article[\"link\"])\n",
    "    print()"
   ]
  },
  {
   "cell_type": "markdown",
   "id": "0bf001c0",
   "metadata": {},
   "source": [
    "## Getting the senitment scores of each article using VADER LEXICON Model and adding the scores in a column to the data set "
   ]
  },
  {
   "cell_type": "code",
   "execution_count": 10,
   "id": "93f53ce3",
   "metadata": {},
   "outputs": [
    {
     "name": "stderr",
     "output_type": "stream",
     "text": [
      "[nltk_data] Downloading package vader_lexicon to\n",
      "[nltk_data]     C:\\Users\\salman_mohamm3d\\AppData\\Roaming\\nltk_data...\n",
      "[nltk_data]   Package vader_lexicon is already up-to-date!\n"
     ]
    },
    {
     "name": "stdout",
     "output_type": "stream",
     "text": [
      "Article URL: https://finance.yahoo.com/news/nokia-nok-establishes-advanced-6g-170800151.html\n",
      "Sentiment: 0.9988\n",
      "Positive Score: 0.1480\n",
      "Negative Score: 0.0000\n",
      "Neutral Score: 0.8520\n",
      "\n",
      "Article URL: https://finance.yahoo.com/news/keysight-keys-solution-boosts-satellite-170300345.html\n",
      "Sentiment: 0.9990\n",
      "Positive Score: 0.1700\n",
      "Negative Score: 0.0050\n",
      "Neutral Score: 0.8250\n",
      "\n",
      "Article URL: https://finance.yahoo.com/news/t-t-exploring-directv-stake-125900231.html\n",
      "Sentiment: 0.9978\n",
      "Positive Score: 0.1270\n",
      "Negative Score: 0.0230\n",
      "Neutral Score: 0.8500\n",
      "\n",
      "Article URL: https://finance.yahoo.com/news/cambium-cmbm-issues-preliminary-q3-125300925.html\n",
      "Sentiment: 0.9985\n",
      "Positive Score: 0.1550\n",
      "Negative Score: 0.0200\n",
      "Neutral Score: 0.8250\n",
      "\n",
      "Article URL: https://finance.yahoo.com/news/motorola-solutions-foundation-hosts-inaugural-203000341.html\n",
      "Sentiment: 0.9992\n",
      "Positive Score: 0.2370\n",
      "Negative Score: 0.0270\n",
      "Neutral Score: 0.7360\n",
      "\n",
      "Article URL: https://finance.yahoo.com/news/makes-altice-atus-enticing-investment-140200741.html\n",
      "Sentiment: 0.9992\n",
      "Positive Score: 0.1870\n",
      "Negative Score: 0.0100\n",
      "Neutral Score: 0.8030\n",
      "\n",
      "Article URL: https://finance.yahoo.com/news/intel-intc-script-chip-turnaround-140000284.html\n",
      "Sentiment: 0.9986\n",
      "Positive Score: 0.1520\n",
      "Negative Score: 0.0090\n",
      "Neutral Score: 0.8390\n",
      "\n",
      "Article URL: https://finance.yahoo.com/news/interdigital-idcc-iit-kanpur-team-155800856.html\n",
      "Sentiment: 0.9993\n",
      "Positive Score: 0.1850\n",
      "Negative Score: 0.0060\n",
      "Neutral Score: 0.8090\n",
      "\n",
      "   timestamp        open        high         low       close    adjclose  \\\n",
      "0 2021-01-01  170.639999  177.000000  165.600006  167.550003  161.473373   \n",
      "1 2021-02-01  168.669998  184.880005  168.669998  175.479996  169.115784   \n",
      "2 2021-03-01  176.729996  190.619995  173.789993  188.050003  181.229904   \n",
      "3 2021-04-01  188.330002  192.839996  184.660004  188.300003  182.195419   \n",
      "4 2021-05-01  188.779999  206.039993  184.550003  205.309998  198.653976   \n",
      "5 2021-06-01  206.220001  217.860001  203.190002  216.850006  209.819839   \n",
      "6 2021-07-01  217.600006  225.009995  215.289993  223.919998  217.387619   \n",
      "7 2021-08-01  224.860001  244.899994  220.830002  244.220001  237.095428   \n",
      "\n",
      "     volume ticker  Monthly Changes  Compound Scores  \n",
      "0  14066700    MSI         0.000000           0.9988  \n",
      "1  14061300    MSI         7.929993           0.9990  \n",
      "2  17230900    MSI        12.570007           0.9978  \n",
      "3  12944300    MSI         0.250000           0.9985  \n",
      "4  14700600    MSI        17.009995           0.9992  \n",
      "5  15409300    MSI        11.540009           0.9992  \n",
      "6  11222900    MSI         7.069992           0.9986  \n",
      "7  15609300    MSI        20.300003           0.9993  \n"
     ]
    }
   ],
   "source": [
    "import requests\n",
    "from bs4 import BeautifulSoup\n",
    "import nltk\n",
    "from nltk.sentiment.vader import SentimentIntensityAnalyzer\n",
    "import pandas as pd\n",
    "\n",
    "# Download the NLTK data for sentiment analysis (if not already downloaded)\n",
    "nltk.download('vader_lexicon')\n",
    "\n",
    "# Create a SentimentIntensityAnalyzer object\n",
    "analyzer = SentimentIntensityAnalyzer()\n",
    "\n",
    "# List of article URLs\n",
    "article_urls = [\n",
    "    \"https://finance.yahoo.com/news/nokia-nok-establishes-advanced-6g-170800151.html\",\n",
    "    \"https://finance.yahoo.com/news/keysight-keys-solution-boosts-satellite-170300345.html\",\n",
    "    \"https://finance.yahoo.com/news/t-t-exploring-directv-stake-125900231.html\",\n",
    "    \"https://finance.yahoo.com/news/cambium-cmbm-issues-preliminary-q3-125300925.html\",\n",
    "    \"https://finance.yahoo.com/news/motorola-solutions-foundation-hosts-inaugural-203000341.html\",\n",
    "    \"https://finance.yahoo.com/news/makes-altice-atus-enticing-investment-140200741.html\",\n",
    "    \"https://finance.yahoo.com/news/intel-intc-script-chip-turnaround-140000284.html\",\n",
    "    \"https://finance.yahoo.com/news/interdigital-idcc-iit-kanpur-team-155800856.html\",\n",
    "]\n",
    "\n",
    "# Create an empty list to store compound scores\n",
    "compound_scores = []\n",
    "\n",
    "for article_url in article_urls:\n",
    "    try:\n",
    "        # Send an HTTP GET request to fetch the article content\n",
    "        response = requests.get(article_url)\n",
    "\n",
    "        # Check if the request was successful (status code 200)\n",
    "        if response.status_code == 200:\n",
    "            # Parse the HTML content of the article using BeautifulSoup\n",
    "            soup = BeautifulSoup(response.text, 'html.parser')\n",
    "\n",
    "            # Extract the article text (customize this based on the website's structure)\n",
    "            article_text = \"\"\n",
    "\n",
    "            # Assuming the article content is within paragraph tags, extract and concatenate the text\n",
    "            paragraphs = soup.find_all('p')\n",
    "            for paragraph in paragraphs:\n",
    "                article_text += paragraph.get_text() + \"\\n\"\n",
    "\n",
    "            # Analyze the sentiment of the article\n",
    "            sentiment_scores = analyzer.polarity_scores(article_text)\n",
    "            \n",
    "            # Append the compound score to the list\n",
    "            compound_scores.append(sentiment_scores['compound'])\n",
    "\n",
    "            # Print the sentiment and sentiment scores for the current article\n",
    "            print(\"Article URL:\", article_url)\n",
    "            print(f\"Sentiment: {sentiment_scores['compound']:.4f}\")\n",
    "            print(f\"Positive Score: {sentiment_scores['pos']:.4f}\")\n",
    "            print(f\"Negative Score: {sentiment_scores['neg']:.4f}\")\n",
    "            print(f\"Neutral Score: {sentiment_scores['neu']:.4f}\")\n",
    "            print()\n",
    "\n",
    "        else:\n",
    "            print(\"Failed to retrieve data. Status code:\", response.status_code)\n",
    "\n",
    "    except Exception as e:\n",
    "        print(\"An error occurred:\", str(e))\n",
    "\n",
    "# Add the list of compound scores as a new column to the wipro_weekly DataFrame\n",
    "msi_monthly['Compound Scores'] = compound_scores\n",
    "\n",
    "# Print the updated DataFrame\n",
    "print(msi_monthly)\n"
   ]
  },
  {
   "cell_type": "code",
   "execution_count": null,
   "id": "36b61c4b",
   "metadata": {},
   "outputs": [],
   "source": []
  },
  {
   "cell_type": "markdown",
   "id": "81585712",
   "metadata": {},
   "source": [
    "## Visualizations :- "
   ]
  },
  {
   "cell_type": "markdown",
   "id": "869872a4",
   "metadata": {},
   "source": [
    "## Scatter Plot  "
   ]
  },
  {
   "cell_type": "code",
   "execution_count": 11,
   "id": "ddc53273",
   "metadata": {},
   "outputs": [
    {
     "data": {
      "image/png": "[encoded data removed]",
      "text/plain": [
       "<Figure size 576x432 with 1 Axes>"
      ]
     },
     "metadata": {
      "needs_background": "light"
     },
     "output_type": "display_data"
    }
   ],
   "source": [
    "import matplotlib.pyplot as plt\n",
    "\n",
    "# Extract 'Monthly Changes' and 'Compound Scores' columns\n",
    "monthly_changes = msi_monthly['Monthly Changes']\n",
    "compound_scores = msi_monthly['Compound Scores']\n",
    "\n",
    "# Create a scatter plot\n",
    "plt.figure(figsize=(8, 6))\n",
    "plt.scatter(monthly_changes, compound_scores, alpha=1)\n",
    "plt.xlabel('Monthly Changes')\n",
    "plt.ylabel('Compound Scores')\n",
    "plt.title('Scatter Plot: Monthly Changes vs. Compound Scores')\n",
    "plt.grid(True)\n",
    "plt.show()\n"
   ]
  },
  {
   "cell_type": "code",
   "execution_count": null,
   "id": "36bd1910",
   "metadata": {},
   "outputs": [],
   "source": []
  },
  {
   "cell_type": "markdown",
   "id": "773bab85",
   "metadata": {},
   "source": [
    "## finding correlation "
   ]
  },
  {
   "cell_type": "code",
   "execution_count": 12,
   "id": "3e490643",
   "metadata": {},
   "outputs": [
    {
     "name": "stdout",
     "output_type": "stream",
     "text": [
      "Spearman Correlation: 0.55\n"
     ]
    }
   ],
   "source": [
    "import pandas as pd\n",
    "\n",
    "# Calculate the Spearman correlation coefficient\n",
    "spearman_correlation = msi_monthly['Monthly Changes'].corr(msi_monthly['Compound Scores'], method='spearman')\n",
    "\n",
    "# Print the Spearman correlation coefficient\n",
    "print(f\"Spearman Correlation: {spearman_correlation:.2f}\")\n"
   ]
  },
  {
   "cell_type": "markdown",
   "id": "a3e0b405",
   "metadata": {},
   "source": [
    "## Visualizing a Heatmap"
   ]
  },
  {
   "cell_type": "code",
   "execution_count": 13,
   "id": "841a2e8e",
   "metadata": {},
   "outputs": [
    {
     "data": {
      "image/png": "[encoded data removed]",
      "text/plain": [
       "<Figure size 720x432 with 2 Axes>"
      ]
     },
     "metadata": {
      "needs_background": "light"
     },
     "output_type": "display_data"
    }
   ],
   "source": [
    "import matplotlib.pyplot as plt\n",
    "import seaborn as sns\n",
    "\n",
    "# Calculate the Spearman rank correlation matrix\n",
    "spearman_corr_matrix = msi_monthly[['Monthly Changes', 'Compound Scores']].corr(method='spearman')\n",
    "\n",
    "# Create a heatmap\n",
    "plt.figure(figsize=(10, 6))  # Set the figure size (adjust as needed)\n",
    "sns.heatmap(spearman_corr_matrix, annot=True, cmap='coolwarm', fmt=\".2f\")  # Create the heatmap\n",
    "\n",
    "# Add title\n",
    "plt.title('Spearman Rank Correlation Heatmap: Monthly Changes vs. Compound Scores')\n",
    "\n",
    "# Show the plot\n",
    "plt.show()\n"
   ]
  },
  {
   "cell_type": "markdown",
   "id": "ed0749cc",
   "metadata": {},
   "source": [
    "## Visualizing a Line Plot "
   ]
  },
  {
   "cell_type": "code",
   "execution_count": 14,
   "id": "5fec5e6d",
   "metadata": {},
   "outputs": [
    {
     "data": {
      "image/png": "[encoded data removed]",
      "text/plain": [
       "<Figure size 720x432 with 1 Axes>"
      ]
     },
     "metadata": {
      "needs_background": "light"
     },
     "output_type": "display_data"
    }
   ],
   "source": [
    "import matplotlib.pyplot as plt\n",
    "import seaborn as sns\n",
    "\n",
    "# Extract 'Monthly Changes' and 'Compound Scores' columns\n",
    "monthly_changes = msi_monthly['Monthly Changes']\n",
    "compound_scores = msi_monthly['Compound Scores']\n",
    "\n",
    "# Create a line plot\n",
    "plt.figure(figsize=(10, 6))  # Set the figure size (adjust as needed)\n",
    "sns.lineplot(x=monthly_changes.index, y=monthly_changes, label='Monthly Changes', color='blue')\n",
    "sns.lineplot(x=compound_scores.index, y=compound_scores, label='Compound Scores', color='orange')\n",
    "\n",
    "# Add labels and title\n",
    "plt.xlabel('Month')\n",
    "plt.ylabel('Value')\n",
    "plt.title('Line Plot: Monthly Changes vs. Compound Scores')\n",
    "\n",
    "# Show legend\n",
    "plt.legend()\n",
    "\n",
    "# Show the plot\n",
    "plt.grid(True)\n",
    "plt.show()\n"
   ]
  },
  {
   "cell_type": "code",
   "execution_count": null,
   "id": "fa0c4fb2",
   "metadata": {},
   "outputs": [],
   "source": []
  },
  {
   "cell_type": "code",
   "execution_count": null,
   "id": "9dd48fa6",
   "metadata": {},
   "outputs": [],
   "source": []
  },
  {
   "cell_type": "code",
   "execution_count": null,
   "id": "89e989c6",
   "metadata": {},
   "outputs": [],
   "source": []
  },
  {
   "cell_type": "markdown",
   "id": "75c036cc",
   "metadata": {},
   "source": [
    "# JP Morgan Chase & Co"
   ]
  },
  {
   "cell_type": "markdown",
   "id": "dd5d5363",
   "metadata": {},
   "source": [
    "## Extracting the stock price data for a specific duration "
   ]
  },
  {
   "cell_type": "code",
   "execution_count": 2,
   "id": "ee854414",
   "metadata": {},
   "outputs": [],
   "source": [
    "from yahoo_fin.stock_info import get_data"
   ]
  },
  {
   "cell_type": "code",
   "execution_count": 48,
   "id": "9cf6fc82",
   "metadata": {},
   "outputs": [
    {
     "data": {
      "text/html": [
       "<div>\n",
       "<style scoped>\n",
       "    .dataframe tbody tr th:only-of-type {\n",
       "        vertical-align: middle;\n",
       "    }\n",
       "\n",
       "    .dataframe tbody tr th {\n",
       "        vertical-align: top;\n",
       "    }\n",
       "\n",
       "    .dataframe thead th {\n",
       "        text-align: right;\n",
       "    }\n",
       "</style>\n",
       "<table border=\"1\" class=\"dataframe\">\n",
       "  <thead>\n",
       "    <tr style=\"text-align: right;\">\n",
       "      <th></th>\n",
       "      <th>timestamp</th>\n",
       "      <th>open</th>\n",
       "      <th>high</th>\n",
       "      <th>low</th>\n",
       "      <th>close</th>\n",
       "      <th>adjclose</th>\n",
       "      <th>volume</th>\n",
       "      <th>ticker</th>\n",
       "    </tr>\n",
       "  </thead>\n",
       "  <tbody>\n",
       "    <tr>\n",
       "      <th>0</th>\n",
       "      <td>2021-01-01</td>\n",
       "      <td>127.500000</td>\n",
       "      <td>142.750000</td>\n",
       "      <td>123.769997</td>\n",
       "      <td>128.669998</td>\n",
       "      <td>118.155418</td>\n",
       "      <td>318582400</td>\n",
       "      <td>JPM</td>\n",
       "    </tr>\n",
       "    <tr>\n",
       "      <th>1</th>\n",
       "      <td>2021-02-01</td>\n",
       "      <td>129.399994</td>\n",
       "      <td>154.899994</td>\n",
       "      <td>128.479996</td>\n",
       "      <td>147.169998</td>\n",
       "      <td>136.116913</td>\n",
       "      <td>229245300</td>\n",
       "      <td>JPM</td>\n",
       "    </tr>\n",
       "    <tr>\n",
       "      <th>2</th>\n",
       "      <td>2021-03-01</td>\n",
       "      <td>149.520004</td>\n",
       "      <td>161.690002</td>\n",
       "      <td>147.970001</td>\n",
       "      <td>152.229996</td>\n",
       "      <td>140.796890</td>\n",
       "      <td>399416900</td>\n",
       "      <td>JPM</td>\n",
       "    </tr>\n",
       "    <tr>\n",
       "      <th>3</th>\n",
       "      <td>2021-04-01</td>\n",
       "      <td>151.899994</td>\n",
       "      <td>157.250000</td>\n",
       "      <td>146.690002</td>\n",
       "      <td>153.809998</td>\n",
       "      <td>142.258240</td>\n",
       "      <td>288694200</td>\n",
       "      <td>JPM</td>\n",
       "    </tr>\n",
       "    <tr>\n",
       "      <th>4</th>\n",
       "      <td>2021-05-01</td>\n",
       "      <td>154.850006</td>\n",
       "      <td>165.699997</td>\n",
       "      <td>152.139999</td>\n",
       "      <td>164.240005</td>\n",
       "      <td>152.799561</td>\n",
       "      <td>248957700</td>\n",
       "      <td>JPM</td>\n",
       "    </tr>\n",
       "    <tr>\n",
       "      <th>5</th>\n",
       "      <td>2021-06-01</td>\n",
       "      <td>165.869995</td>\n",
       "      <td>167.440002</td>\n",
       "      <td>147.559998</td>\n",
       "      <td>155.539993</td>\n",
       "      <td>144.705566</td>\n",
       "      <td>356723300</td>\n",
       "      <td>JPM</td>\n",
       "    </tr>\n",
       "    <tr>\n",
       "      <th>6</th>\n",
       "      <td>2021-07-01</td>\n",
       "      <td>156.259995</td>\n",
       "      <td>159.160004</td>\n",
       "      <td>145.710007</td>\n",
       "      <td>151.779999</td>\n",
       "      <td>141.207458</td>\n",
       "      <td>280571500</td>\n",
       "      <td>JPM</td>\n",
       "    </tr>\n",
       "    <tr>\n",
       "      <th>7</th>\n",
       "      <td>2021-08-01</td>\n",
       "      <td>152.029999</td>\n",
       "      <td>163.830002</td>\n",
       "      <td>149.520004</td>\n",
       "      <td>159.949997</td>\n",
       "      <td>149.665909</td>\n",
       "      <td>208085700</td>\n",
       "      <td>JPM</td>\n",
       "    </tr>\n",
       "  </tbody>\n",
       "</table>\n",
       "</div>"
      ],
      "text/plain": [
       "   timestamp        open        high         low       close    adjclose  \\\n",
       "0 2021-01-01  127.500000  142.750000  123.769997  128.669998  118.155418   \n",
       "1 2021-02-01  129.399994  154.899994  128.479996  147.169998  136.116913   \n",
       "2 2021-03-01  149.520004  161.690002  147.970001  152.229996  140.796890   \n",
       "3 2021-04-01  151.899994  157.250000  146.690002  153.809998  142.258240   \n",
       "4 2021-05-01  154.850006  165.699997  152.139999  164.240005  152.799561   \n",
       "5 2021-06-01  165.869995  167.440002  147.559998  155.539993  144.705566   \n",
       "6 2021-07-01  156.259995  159.160004  145.710007  151.779999  141.207458   \n",
       "7 2021-08-01  152.029999  163.830002  149.520004  159.949997  149.665909   \n",
       "\n",
       "      volume ticker  \n",
       "0  318582400    JPM  \n",
       "1  229245300    JPM  \n",
       "2  399416900    JPM  \n",
       "3  288694200    JPM  \n",
       "4  248957700    JPM  \n",
       "5  356723300    JPM  \n",
       "6  280571500    JPM  \n",
       "7  208085700    JPM  "
      ]
     },
     "execution_count": 48,
     "metadata": {},
     "output_type": "execute_result"
    }
   ],
   "source": [
    "JPM_monthly = get_data(\"JPM\", start_date=\"01/01/2021\", end_date=\"09/01/2021\", index_as_date=True, interval=\"1mo\") #Getting the stock price data  with interval of 1 Month\n",
    "JPM_monthly.reset_index(inplace=True)  #Reseting the index of DataFrame\n",
    "JPM_monthly.rename(columns={'index': 'timestamp'}, inplace=True)   #Renaming the index column of the DataFrame to timestamp\n",
    "JPM_monthly"
   ]
  },
  {
   "cell_type": "markdown",
   "id": "c5deb13e",
   "metadata": {},
   "source": [
    "## finding the monthly stock price changes and adding a new column to data set "
   ]
  },
  {
   "cell_type": "code",
   "execution_count": 49,
   "id": "e2560b0c",
   "metadata": {},
   "outputs": [
    {
     "name": "stdout",
     "output_type": "stream",
     "text": [
      "   timestamp        open        high         low       close    adjclose  \\\n",
      "0 2021-01-01  127.500000  142.750000  123.769997  128.669998  118.155418   \n",
      "1 2021-02-01  129.399994  154.899994  128.479996  147.169998  136.116913   \n",
      "2 2021-03-01  149.520004  161.690002  147.970001  152.229996  140.796890   \n",
      "3 2021-04-01  151.899994  157.250000  146.690002  153.809998  142.258240   \n",
      "4 2021-05-01  154.850006  165.699997  152.139999  164.240005  152.799561   \n",
      "5 2021-06-01  165.869995  167.440002  147.559998  155.539993  144.705566   \n",
      "6 2021-07-01  156.259995  159.160004  145.710007  151.779999  141.207458   \n",
      "7 2021-08-01  152.029999  163.830002  149.520004  159.949997  149.665909   \n",
      "\n",
      "      volume ticker  Monthly Changes  \n",
      "0  318582400    JPM         0.000000  \n",
      "1  229245300    JPM        18.500000  \n",
      "2  399416900    JPM         5.059998  \n",
      "3  288694200    JPM         1.580002  \n",
      "4  248957700    JPM        10.430008  \n",
      "5  356723300    JPM        -8.700012  \n",
      "6  280571500    JPM        -3.759995  \n",
      "7  208085700    JPM         8.169998  \n"
     ]
    }
   ],
   "source": [
    "# Calculate monthly stock price changes\n",
    "JPM_monthly['Monthly Changes'] = JPM_mothly['close'].diff().fillna(0)\n",
    "\n",
    "# Print the DataFrame with weekly changes\n",
    "print(JPM_monthly)\n"
   ]
  },
  {
   "cell_type": "markdown",
   "id": "c0f6898c",
   "metadata": {},
   "source": [
    "## Extracting the articles using web scraping from yahoo finance"
   ]
  },
  {
   "cell_type": "code",
   "execution_count": 50,
   "id": "09fb6aea",
   "metadata": {},
   "outputs": [
    {
     "name": "stdout",
     "output_type": "stream",
     "text": [
      "Headline: A key inflation gauge and bank earnings: What to know this week\n",
      "Article URL: /news/a-key-inflation-gauge-and-bank-earnings-what-to-know-this-week-140010041.html\n",
      "\n",
      "Headline: The big bank CEOs who are under the most pressure right now\n",
      "Article URL: /news/the-big-bank-ceos-who-are-under-the-most-pressure-right-now-130516141.html\n",
      "\n",
      "Headline: Israel Latest: Over 1,100 Dead in Attacks Including Music Festival; Fighting Enters Third Day\n",
      "Article URL: /news/israel-latest-over-1-100-002255687.html\n",
      "\n",
      "Headline: Earnings Calendar Spotlight: UnitedHealth Group, JPMorgan Kick Off Q3 Earnings Season\n",
      "Article URL: /m/a79fa4e5-e5e0-30f0-9872-d56b1e5b2706/earnings-calendar-spotlight-.html\n",
      "\n",
      "Headline: NatWest and Lloyds among rivals weighing bids for parts of Metro Bank\n",
      "Article URL: /m/161b491d-1eea-3e42-9d56-bac2c36223ff/natwest-and-lloyds-among.html\n",
      "\n",
      "Headline: JPMorgan Chase, Pepsi, Delta, and More Stocks to Watch This Week\n",
      "Article URL: /m/16c48a5c-1c1e-3840-921b-65afa9380ed6/jpmorgan-chase-pepsi-.html\n",
      "\n",
      "Headline: Bank of England approached UK lenders to gauge interest in troubled Metro Bank- FT\n",
      "Article URL: /news/jpmorgan-chase-opted-bid-metro-120810599.html\n",
      "\n",
      "Headline: JPMorgan Chase opted out of bid for Metro Bank - FT\n",
      "Article URL: /news/jpmorgan-chase-opted-bid-metro-120258021.html\n",
      "\n",
      "Headline: Life After Epstein at America's Top Bank\n",
      "Article URL: /m/c07dc9d6-1d68-36b3-a763-f5975c2ef919/life-after-epstein-at.html\n",
      "\n",
      "Headline: JPMorgan Chase & Co. (JPM) Earnings Expected to Grow: Should You Buy?\n",
      "Article URL: /news/jpmorgan-chase-co-jpm-earnings-140007146.html\n",
      "\n"
     ]
    }
   ],
   "source": [
    "import requests\n",
    "from bs4 import BeautifulSoup\n",
    "\n",
    "def scrape_news_articles(company_name, start_date, end_date):\n",
    "    try:\n",
    "        # Define the URL for Yahoo Finance news search results\n",
    "        url = f\"https://finance.yahoo.com/quote/{company_name}?p={company_name}&from={start_date}&to={end_date}&sort=3\"\n",
    "\n",
    "        # Send an HTTP GET request to fetch the search results page\n",
    "        response = requests.get(url)\n",
    "\n",
    "        # Check if the request was successful (status code 200)\n",
    "        if response.status_code == 200:\n",
    "            # Parse the HTML content of the page using BeautifulSoup\n",
    "            soup = BeautifulSoup(response.text, 'html.parser')\n",
    "\n",
    "            # Find the elements that contain news article links\n",
    "            article_links = soup.find_all('h3', class_='Mb(5px)')\n",
    "\n",
    "            # Extract and print the headlines and links of the articles\n",
    "            for link in article_links:\n",
    "                headline = link.find('a').text.strip()\n",
    "                article_url = link.find('a')['href']\n",
    "                print(f\"Headline: {headline}\")\n",
    "                print(f\"Article URL: {article_url}\")\n",
    "                print()\n",
    "\n",
    "        else:\n",
    "            print(\"Failed to retrieve data. Status code:\", response.status_code)\n",
    "\n",
    "    except Exception as e:\n",
    "        print(\"An error occurred:\", str(e))\n",
    "\n",
    "# Example usage:\n",
    "company_name = \"JPM\"\n",
    "start_date = \"2021-01-01\"\n",
    "end_date = \"2021-09-01\"\n",
    "scrape_news_articles(company_name, start_date, end_date)\n"
   ]
  },
  {
   "cell_type": "markdown",
   "id": "1539a0a5",
   "metadata": {},
   "source": [
    "## Getting the senitment scores of each article using VADER LEXICON Model and adding the scores in a column to the data set "
   ]
  },
  {
   "cell_type": "code",
   "execution_count": 51,
   "id": "4bd41787",
   "metadata": {},
   "outputs": [
    {
     "name": "stderr",
     "output_type": "stream",
     "text": [
      "[nltk_data] Downloading package vader_lexicon to\n",
      "[nltk_data]     C:\\Users\\salman_mohamm3d\\AppData\\Roaming\\nltk_data...\n",
      "[nltk_data]   Package vader_lexicon is already up-to-date!\n"
     ]
    },
    {
     "name": "stdout",
     "output_type": "stream",
     "text": [
      "Article URL: https://finance.yahoo.com/news/a-key-inflation-gauge-and-bank-earnings-what-to-know-this-week-140010041.html\n",
      "Sentiment: 0.9835\n",
      "Positive Score: 0.0590\n",
      "Negative Score: 0.0280\n",
      "Neutral Score: 0.9130\n",
      "\n",
      "Article URL: https://finance.yahoo.com/news/the-big-bank-ceos-who-are-under-the-most-pressure-right-now-130516141.html\n",
      "Sentiment: 0.6101\n",
      "Positive Score: 0.0740\n",
      "Negative Score: 0.0650\n",
      "Neutral Score: 0.8610\n",
      "\n",
      "Article URL: https://finance.yahoo.com/news/israel-latest-over-1-100-002255687.html\n",
      "Sentiment: -0.9982\n",
      "Positive Score: 0.0740\n",
      "Negative Score: 0.1430\n",
      "Neutral Score: 0.7830\n",
      "\n",
      "Article URL: https://finance.yahoo.com/m/161b491d-1eea-3e42-9d56-bac2c36223ff/natwest-and-lloyds-among.html\n",
      "Sentiment: -0.1675\n",
      "Positive Score: 0.0380\n",
      "Negative Score: 0.0330\n",
      "Neutral Score: 0.9280\n",
      "\n",
      "Article URL: https://finance.yahoo.com/m/16c48a5c-1c1e-3840-921b-65afa9380ed6/jpmorgan-chase-pepsi-.html\n",
      "Sentiment: 0.2732\n",
      "Positive Score: 0.0630\n",
      "Negative Score: 0.0000\n",
      "Neutral Score: 0.9370\n",
      "\n",
      "Article URL: https://finance.yahoo.com/news/jpmorgan-chase-opted-bid-metro-120810599.html\n",
      "Sentiment: -0.2500\n",
      "Positive Score: 0.0550\n",
      "Negative Score: 0.0610\n",
      "Neutral Score: 0.8840\n",
      "\n",
      "Article URL: https://finance.yahoo.com/news/jpmorgan-chase-opted-bid-metro-120258021.html\n",
      "Sentiment: -0.2500\n",
      "Positive Score: 0.0540\n",
      "Negative Score: 0.0600\n",
      "Neutral Score: 0.8850\n",
      "\n",
      "Article URL: https://finance.yahoo.com/news/jpmorgan-chase-co-jpm-earnings-140007146.html\n",
      "Sentiment: 0.9983\n",
      "Positive Score: 0.1500\n",
      "Negative Score: 0.0540\n",
      "Neutral Score: 0.7960\n",
      "\n",
      "   timestamp        open        high         low       close    adjclose  \\\n",
      "0 2021-01-01  127.500000  142.750000  123.769997  128.669998  118.155418   \n",
      "1 2021-02-01  129.399994  154.899994  128.479996  147.169998  136.116913   \n",
      "2 2021-03-01  149.520004  161.690002  147.970001  152.229996  140.796890   \n",
      "3 2021-04-01  151.899994  157.250000  146.690002  153.809998  142.258240   \n",
      "4 2021-05-01  154.850006  165.699997  152.139999  164.240005  152.799561   \n",
      "5 2021-06-01  165.869995  167.440002  147.559998  155.539993  144.705566   \n",
      "6 2021-07-01  156.259995  159.160004  145.710007  151.779999  141.207458   \n",
      "7 2021-08-01  152.029999  163.830002  149.520004  159.949997  149.665909   \n",
      "\n",
      "      volume ticker  Monthly Changes  Compound Scores  \n",
      "0  318582400    JPM         0.000000           0.9835  \n",
      "1  229245300    JPM        18.500000           0.6101  \n",
      "2  399416900    JPM         5.059998          -0.9982  \n",
      "3  288694200    JPM         1.580002          -0.1675  \n",
      "4  248957700    JPM        10.430008           0.2732  \n",
      "5  356723300    JPM        -8.700012          -0.2500  \n",
      "6  280571500    JPM        -3.759995          -0.2500  \n",
      "7  208085700    JPM         8.169998           0.9983  \n"
     ]
    }
   ],
   "source": [
    "import requests\n",
    "from bs4 import BeautifulSoup\n",
    "import nltk\n",
    "from nltk.sentiment.vader import SentimentIntensityAnalyzer\n",
    "import pandas as pd\n",
    "\n",
    "# Download the NLTK data for sentiment analysis (if not already downloaded)\n",
    "nltk.download('vader_lexicon')\n",
    "\n",
    "# Create a SentimentIntensityAnalyzer object\n",
    "analyzer = SentimentIntensityAnalyzer()\n",
    "\n",
    "# List of article URLs\n",
    "article_urls = [\n",
    "    \"https://finance.yahoo.com/news/a-key-inflation-gauge-and-bank-earnings-what-to-know-this-week-140010041.html\",\n",
    "    \"https://finance.yahoo.com/news/the-big-bank-ceos-who-are-under-the-most-pressure-right-now-130516141.html\",\n",
    "    \"https://finance.yahoo.com/news/israel-latest-over-1-100-002255687.html\",\n",
    "    \"https://finance.yahoo.com/m/161b491d-1eea-3e42-9d56-bac2c36223ff/natwest-and-lloyds-among.html\",\n",
    "    \"https://finance.yahoo.com/m/16c48a5c-1c1e-3840-921b-65afa9380ed6/jpmorgan-chase-pepsi-.html\",\n",
    "    \"https://finance.yahoo.com/news/jpmorgan-chase-opted-bid-metro-120810599.html\",\n",
    "    \"https://finance.yahoo.com/news/jpmorgan-chase-opted-bid-metro-120258021.html\",\n",
    "    \"https://finance.yahoo.com/news/jpmorgan-chase-co-jpm-earnings-140007146.html\"\n",
    "]\n",
    "\n",
    "# Create an empty list to store compound scores\n",
    "compound_scores = []\n",
    "\n",
    "for article_url in article_urls:\n",
    "    try:\n",
    "        # Send an HTTP GET request to fetch the article content\n",
    "        response = requests.get(article_url)\n",
    "\n",
    "        # Check if the request was successful (status code 200)\n",
    "        if response.status_code == 200:\n",
    "            # Parse the HTML content of the article using BeautifulSoup\n",
    "            soup = BeautifulSoup(response.text, 'html.parser')\n",
    "\n",
    "            # Extract the article text (customize this based on the website's structure)\n",
    "            article_text = \"\"\n",
    "\n",
    "            # Assuming the article content is within paragraph tags, extract and concatenate the text\n",
    "            paragraphs = soup.find_all('p')\n",
    "            for paragraph in paragraphs:\n",
    "                article_text += paragraph.get_text() + \"\\n\"\n",
    "\n",
    "            # Analyze the sentiment of the article\n",
    "            sentiment_scores = analyzer.polarity_scores(article_text)\n",
    "            \n",
    "            # Append the compound score to the list\n",
    "            compound_scores.append(sentiment_scores['compound'])\n",
    "\n",
    "            # Print the sentiment and sentiment scores for the current article\n",
    "            print(\"Article URL:\", article_url)\n",
    "            print(f\"Sentiment: {sentiment_scores['compound']:.4f}\")\n",
    "            print(f\"Positive Score: {sentiment_scores['pos']:.4f}\")\n",
    "            print(f\"Negative Score: {sentiment_scores['neg']:.4f}\")\n",
    "            print(f\"Neutral Score: {sentiment_scores['neu']:.4f}\")\n",
    "            print()\n",
    "\n",
    "        else:\n",
    "            print(\"Failed to retrieve data. Status code:\", response.status_code)\n",
    "\n",
    "    except Exception as e:\n",
    "        print(\"An error occurred:\", str(e))\n",
    "\n",
    "# Add the list of compound scores as a new column to the wipro_weekly DataFrame\n",
    "JPM_monthly['Compound Scores'] = compound_scores\n",
    "\n",
    "# Print the updated DataFrame\n",
    "print(JPM_monthly)\n"
   ]
  },
  {
   "cell_type": "markdown",
   "id": "c6396732",
   "metadata": {},
   "source": [
    "## Visualizations :- \n",
    "\n",
    "## Scatter Plot  "
   ]
  },
  {
   "cell_type": "code",
   "execution_count": 52,
   "id": "429b4b01",
   "metadata": {},
   "outputs": [
    {
     "data": {
      "image/png": "[encoded data removed]",
      "text/plain": [
       "<Figure size 576x432 with 1 Axes>"
      ]
     },
     "metadata": {
      "needs_background": "light"
     },
     "output_type": "display_data"
    }
   ],
   "source": [
    "import matplotlib.pyplot as plt\n",
    "\n",
    "# Extract 'Monthly Changes' and 'Compound Scores' columns\n",
    "monthly_changes = JPM_monthly['Monthly Changes']\n",
    "compound_scores = JPM_monthly['Compound Scores']\n",
    "\n",
    "# Create a scatter plot\n",
    "plt.figure(figsize=(8, 6))\n",
    "plt.scatter(monthly_changes, compound_scores, alpha=1)\n",
    "plt.xlabel('Monthly Changes')\n",
    "plt.ylabel('Compound Scores')\n",
    "plt.title('Scatter Plot: Monthly Changes vs. Compound Scores')\n",
    "plt.grid(True)\n",
    "plt.show()\n"
   ]
  },
  {
   "cell_type": "markdown",
   "id": "87a7e45a",
   "metadata": {},
   "source": [
    "## finding correlation"
   ]
  },
  {
   "cell_type": "code",
   "execution_count": 53,
   "id": "c7f88689",
   "metadata": {},
   "outputs": [
    {
     "name": "stdout",
     "output_type": "stream",
     "text": [
      "Spearman Correlation: 0.44\n"
     ]
    }
   ],
   "source": [
    "import pandas as pd\n",
    "\n",
    "# Calculate the Spearman correlation coefficient\n",
    "spearman_correlation = JPM_monthly['Monthly Changes'].corr(JPM_monthly['Compound Scores'], method='spearman')\n",
    "\n",
    "# Print the Spearman correlation coefficient\n",
    "print(f\"Spearman Correlation: {spearman_correlation:.2f}\")\n"
   ]
  },
  {
   "cell_type": "markdown",
   "id": "a243bb03",
   "metadata": {},
   "source": [
    "## Visualizing a Heatmap"
   ]
  },
  {
   "cell_type": "code",
   "execution_count": 55,
   "id": "a44e12b8",
   "metadata": {},
   "outputs": [
    {
     "data": {
      "image/png": "[encoded data removed]",
      "text/plain": [
       "<Figure size 720x432 with 2 Axes>"
      ]
     },
     "metadata": {
      "needs_background": "light"
     },
     "output_type": "display_data"
    }
   ],
   "source": [
    "import matplotlib.pyplot as plt\n",
    "import seaborn as sns\n",
    "\n",
    "# Calculate the Spearman rank correlation matrix\n",
    "spearman_corr_matrix = JPM_monthly[['Monthly Changes', 'Compound Scores']].corr(method='spearman')\n",
    "\n",
    "# Create a heatmap\n",
    "plt.figure(figsize=(10, 6))  # Set the figure size (adjust as needed)\n",
    "sns.heatmap(spearman_corr_matrix, annot=True, cmap='coolwarm', fmt=\".2f\")  # Create the heatmap\n",
    "\n",
    "# Add title\n",
    "plt.title('Spearman Rank Correlation Heatmap: Monthly Changes vs. Compound Scores')\n",
    "\n",
    "# Show the plot\n",
    "plt.show()"
   ]
  },
  {
   "cell_type": "markdown",
   "id": "4c14db1c",
   "metadata": {},
   "source": [
    "## Visualizing a Line Plot "
   ]
  },
  {
   "cell_type": "code",
   "execution_count": 56,
   "id": "9cccc8d0",
   "metadata": {},
   "outputs": [
    {
     "data": {
      "image/png": "[encoded data removed]",
      "text/plain": [
       "<Figure size 720x432 with 1 Axes>"
      ]
     },
     "metadata": {
      "needs_background": "light"
     },
     "output_type": "display_data"
    }
   ],
   "source": [
    "import matplotlib.pyplot as plt\n",
    "import seaborn as sns\n",
    "\n",
    "# Extract 'Monthly Changes' and 'Compound Scores' columns\n",
    "monthly_changes = JPM_monthly['Monthly Changes']\n",
    "compound_scores = JPM_monthly['Compound Scores']\n",
    "\n",
    "# Create a line plot\n",
    "plt.figure(figsize=(10, 6))  # Set the figure size (adjust as needed)\n",
    "sns.lineplot(x=monthly_changes.index, y=monthly_changes, label='Monthly Changes', color='blue')\n",
    "sns.lineplot(x=compound_scores.index, y=compound_scores, label='Compound Scores', color='orange')\n",
    "\n",
    "# Add labels and title\n",
    "plt.xlabel('Month')\n",
    "plt.ylabel('Value')\n",
    "plt.title('Line Plot: Monthly Changes vs. Compound Scores')\n",
    "\n",
    "# Show legend\n",
    "plt.legend()\n",
    "\n",
    "# Show the plot\n",
    "plt.grid(True)\n",
    "plt.show()\n"
   ]
  },
  {
   "cell_type": "code",
   "execution_count": null,
   "id": "f3f92305",
   "metadata": {},
   "outputs": [],
   "source": []
  }
 ],
 "metadata": {
  "kernelspec": {
   "display_name": "Python 3 (ipykernel)",
   "language": "python",
   "name": "python3"
  },
  "language_info": {
   "codemirror_mode": {
    "name": "ipython",
    "version": 3
   },
   "file_extension": ".py",
   "mimetype": "text/x-python",
   "name": "python",
   "nbconvert_exporter": "python",
   "pygments_lexer": "ipython3",
   "version": "3.9.12"
  }
 },
 "nbformat": 4,
 "nbformat_minor": 5
}
